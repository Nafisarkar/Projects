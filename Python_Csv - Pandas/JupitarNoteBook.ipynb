{
 "cells": [
  {
   "cell_type": "code",
   "execution_count": 12,
   "metadata": {},
   "outputs": [],
   "source": [
    "import pandas as pd"
   ]
  },
  {
   "cell_type": "code",
   "execution_count": 13,
   "metadata": {},
   "outputs": [
    {
     "data": {
      "text/html": [
       "<div>\n",
       "<style scoped>\n",
       "    .dataframe tbody tr th:only-of-type {\n",
       "        vertical-align: middle;\n",
       "    }\n",
       "\n",
       "    .dataframe tbody tr th {\n",
       "        vertical-align: top;\n",
       "    }\n",
       "\n",
       "    .dataframe thead th {\n",
       "        text-align: right;\n",
       "    }\n",
       "</style>\n",
       "<table border=\"1\" class=\"dataframe\">\n",
       "  <thead>\n",
       "    <tr style=\"text-align: right;\">\n",
       "      <th></th>\n",
       "      <th>Series_reference</th>\n",
       "      <th>Period</th>\n",
       "      <th>Data_value</th>\n",
       "      <th>Suppressed</th>\n",
       "      <th>STATUS</th>\n",
       "      <th>UNITS</th>\n",
       "      <th>Magnitude</th>\n",
       "      <th>Subject</th>\n",
       "      <th>Group</th>\n",
       "      <th>Series_title_1</th>\n",
       "      <th>Series_title_2</th>\n",
       "      <th>Series_title_3</th>\n",
       "    </tr>\n",
       "  </thead>\n",
       "  <tbody>\n",
       "    <tr>\n",
       "      <th>0</th>\n",
       "      <td>BDCQ.SEA1AA</td>\n",
       "      <td>2011.06</td>\n",
       "      <td>80078.0</td>\n",
       "      <td>NaN</td>\n",
       "      <td>F</td>\n",
       "      <td>Number</td>\n",
       "      <td>0</td>\n",
       "      <td>Business Data Collection - BDC</td>\n",
       "      <td>Industry by employment variable</td>\n",
       "      <td>Filled jobs</td>\n",
       "      <td>Agriculture, Forestry and Fishing</td>\n",
       "      <td>Actual</td>\n",
       "    </tr>\n",
       "    <tr>\n",
       "      <th>1</th>\n",
       "      <td>BDCQ.SEA1AA</td>\n",
       "      <td>2011.09</td>\n",
       "      <td>78324.0</td>\n",
       "      <td>NaN</td>\n",
       "      <td>F</td>\n",
       "      <td>Number</td>\n",
       "      <td>0</td>\n",
       "      <td>Business Data Collection - BDC</td>\n",
       "      <td>Industry by employment variable</td>\n",
       "      <td>Filled jobs</td>\n",
       "      <td>Agriculture, Forestry and Fishing</td>\n",
       "      <td>Actual</td>\n",
       "    </tr>\n",
       "    <tr>\n",
       "      <th>2</th>\n",
       "      <td>BDCQ.SEA1AA</td>\n",
       "      <td>2011.12</td>\n",
       "      <td>85850.0</td>\n",
       "      <td>NaN</td>\n",
       "      <td>F</td>\n",
       "      <td>Number</td>\n",
       "      <td>0</td>\n",
       "      <td>Business Data Collection - BDC</td>\n",
       "      <td>Industry by employment variable</td>\n",
       "      <td>Filled jobs</td>\n",
       "      <td>Agriculture, Forestry and Fishing</td>\n",
       "      <td>Actual</td>\n",
       "    </tr>\n",
       "    <tr>\n",
       "      <th>3</th>\n",
       "      <td>BDCQ.SEA1AA</td>\n",
       "      <td>2012.03</td>\n",
       "      <td>90743.0</td>\n",
       "      <td>NaN</td>\n",
       "      <td>F</td>\n",
       "      <td>Number</td>\n",
       "      <td>0</td>\n",
       "      <td>Business Data Collection - BDC</td>\n",
       "      <td>Industry by employment variable</td>\n",
       "      <td>Filled jobs</td>\n",
       "      <td>Agriculture, Forestry and Fishing</td>\n",
       "      <td>Actual</td>\n",
       "    </tr>\n",
       "  </tbody>\n",
       "</table>\n",
       "</div>"
      ],
      "text/plain": [
       "  Series_reference   Period  Data_value Suppressed STATUS   UNITS  Magnitude  \\\n",
       "0      BDCQ.SEA1AA  2011.06     80078.0        NaN      F  Number          0   \n",
       "1      BDCQ.SEA1AA  2011.09     78324.0        NaN      F  Number          0   \n",
       "2      BDCQ.SEA1AA  2011.12     85850.0        NaN      F  Number          0   \n",
       "3      BDCQ.SEA1AA  2012.03     90743.0        NaN      F  Number          0   \n",
       "\n",
       "                          Subject                            Group  \\\n",
       "0  Business Data Collection - BDC  Industry by employment variable   \n",
       "1  Business Data Collection - BDC  Industry by employment variable   \n",
       "2  Business Data Collection - BDC  Industry by employment variable   \n",
       "3  Business Data Collection - BDC  Industry by employment variable   \n",
       "\n",
       "  Series_title_1                     Series_title_2 Series_title_3  \n",
       "0    Filled jobs  Agriculture, Forestry and Fishing         Actual  \n",
       "1    Filled jobs  Agriculture, Forestry and Fishing         Actual  \n",
       "2    Filled jobs  Agriculture, Forestry and Fishing         Actual  \n",
       "3    Filled jobs  Agriculture, Forestry and Fishing         Actual  "
      ]
     },
     "execution_count": 13,
     "metadata": {},
     "output_type": "execute_result"
    }
   ],
   "source": [
    "# Read the csv file\n",
    "df = pd.read_csv('res/data.csv')\n",
    "df.head(4)"
   ]
  },
  {
   "cell_type": "code",
   "execution_count": 14,
   "metadata": {},
   "outputs": [
    {
     "name": "stdout",
     "output_type": "stream",
     "text": [
      "Series_reference\n",
      "Period\n",
      "Data_value\n",
      "Suppressed\n",
      "STATUS\n",
      "UNITS\n",
      "Magnitude\n",
      "Subject\n",
      "Group\n",
      "Series_title_1\n",
      "Series_title_2\n",
      "Series_title_3\n"
     ]
    }
   ],
   "source": [
    "# Get the data Head name\n",
    "top_head = df.head(0)\n",
    "for i in top_head:\n",
    "    print(i)"
   ]
  },
  {
   "cell_type": "code",
   "execution_count": 15,
   "metadata": {},
   "outputs": [
    {
     "name": "stdout",
     "output_type": "stream",
     "text": [
      "<class 'pandas.core.frame.DataFrame'>\n",
      "RangeIndex: 21415 entries, 0 to 21414\n",
      "Data columns (total 12 columns):\n",
      " #   Column            Non-Null Count  Dtype  \n",
      "---  ------            --------------  -----  \n",
      " 0   Series_reference  21415 non-null  object \n",
      " 1   Period            21415 non-null  float64\n",
      " 2   Data_value        16848 non-null  float64\n",
      " 3   Suppressed        4567 non-null   object \n",
      " 4   STATUS            21415 non-null  object \n",
      " 5   UNITS             21415 non-null  object \n",
      " 6   Magnitude         21415 non-null  int64  \n",
      " 7   Subject           21415 non-null  object \n",
      " 8   Group             21415 non-null  object \n",
      " 9   Series_title_1    21415 non-null  object \n",
      " 10  Series_title_2    21415 non-null  object \n",
      " 11  Series_title_3    21415 non-null  object \n",
      "dtypes: float64(2), int64(1), object(9)\n",
      "memory usage: 2.0+ MB\n",
      "Colums: 12 Rows: 21415\n"
     ]
    }
   ],
   "source": [
    "# Get the number of rows and columns\n",
    "df.info()\n",
    "print(f'Colums: {df.shape[1]} Rows: {df.shape[0]}')"
   ]
  }
 ],
 "metadata": {
  "kernelspec": {
   "display_name": "venv",
   "language": "python",
   "name": "python3"
  },
  "language_info": {
   "codemirror_mode": {
    "name": "ipython",
    "version": 3
   },
   "file_extension": ".py",
   "mimetype": "text/x-python",
   "name": "python",
   "nbconvert_exporter": "python",
   "pygments_lexer": "ipython3",
   "version": "3.11.4"
  },
  "orig_nbformat": 4
 },
 "nbformat": 4,
 "nbformat_minor": 2
}
